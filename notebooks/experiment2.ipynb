{
 "cells": [
  {
   "cell_type": "code",
   "execution_count": 1,
   "metadata": {},
   "outputs": [],
   "source": [
    "import pandas as pd\n",
    "pd.set_option(\"display.max_columns\",200)\n",
    "\n",
    "import numpy as np\n",
    "import matplotlib.pyplot as plt\n",
    "import seaborn as sns\n",
    "from scipy.stats import skew\n",
    "\n",
    "from sklearn.impute import SimpleImputer\n",
    "from sklearn.preprocessing import StandardScaler\n",
    "from sklearn.model_selection import train_test_split, GridSearchCV, RandomizedSearchCV\n",
    "from sklearn.ensemble import RandomForestClassifier, GradientBoostingClassifier\n",
    "from sklearn.feature_selection import SelectFromModel\n",
    "from xgboost import XGBClassifier\n",
    "from lightgbm import LGBMClassifier\n",
    "from sklearn.metrics import classification_report, accuracy_score, roc_auc_score\n",
    "\n",
    "import warnings\n",
    "warnings.filterwarnings(\"ignore\")\n",
    "\n",
    "import missingno as msno"
   ]
  },
  {
   "cell_type": "code",
   "execution_count": 2,
   "metadata": {},
   "outputs": [
    {
     "name": "stdout",
     "output_type": "stream",
     "text": [
      "The shape of train data: (69999, 172)\n",
      "The shape of test data: (30000, 171)\n"
     ]
    }
   ],
   "source": [
    "train = pd.read_csv(r\"..\\data\\train.csv\")\n",
    "print(f\"The shape of train data: {train.shape}\")\n",
    "test = pd.read_csv(r\"..\\data\\test.csv\")\n",
    "print(f\"The shape of test data: {test.shape}\")"
   ]
  },
  {
   "cell_type": "code",
   "execution_count": 3,
   "metadata": {},
   "outputs": [
    {
     "data": {
      "text/html": [
       "<div>\n",
       "<style scoped>\n",
       "    .dataframe tbody tr th:only-of-type {\n",
       "        vertical-align: middle;\n",
       "    }\n",
       "\n",
       "    .dataframe tbody tr th {\n",
       "        vertical-align: top;\n",
       "    }\n",
       "\n",
       "    .dataframe thead th {\n",
       "        text-align: right;\n",
       "    }\n",
       "</style>\n",
       "<table border=\"1\" class=\"dataframe\">\n",
       "  <thead>\n",
       "    <tr style=\"text-align: right;\">\n",
       "      <th></th>\n",
       "      <th>last_date_of_month_6</th>\n",
       "      <th>last_date_of_month_7</th>\n",
       "      <th>last_date_of_month_8</th>\n",
       "      <th>date_of_last_rech_6</th>\n",
       "      <th>date_of_last_rech_7</th>\n",
       "      <th>date_of_last_rech_8</th>\n",
       "      <th>date_of_last_rech_data_6</th>\n",
       "      <th>date_of_last_rech_data_7</th>\n",
       "      <th>date_of_last_rech_data_8</th>\n",
       "    </tr>\n",
       "  </thead>\n",
       "  <tbody>\n",
       "    <tr>\n",
       "      <th>37094</th>\n",
       "      <td>6/30/2014</td>\n",
       "      <td>7/31/2014</td>\n",
       "      <td>8/31/2014</td>\n",
       "      <td>6/25/2014</td>\n",
       "      <td>7/24/2014</td>\n",
       "      <td>8/6/2014</td>\n",
       "      <td>6/23/2014</td>\n",
       "      <td>NaN</td>\n",
       "      <td>8/2/2014</td>\n",
       "    </tr>\n",
       "    <tr>\n",
       "      <th>8446</th>\n",
       "      <td>6/30/2014</td>\n",
       "      <td>7/31/2014</td>\n",
       "      <td>8/31/2014</td>\n",
       "      <td>6/29/2014</td>\n",
       "      <td>7/25/2014</td>\n",
       "      <td>8/30/2014</td>\n",
       "      <td>NaN</td>\n",
       "      <td>NaN</td>\n",
       "      <td>NaN</td>\n",
       "    </tr>\n",
       "    <tr>\n",
       "      <th>50628</th>\n",
       "      <td>6/30/2014</td>\n",
       "      <td>7/31/2014</td>\n",
       "      <td>8/31/2014</td>\n",
       "      <td>6/28/2014</td>\n",
       "      <td>7/28/2014</td>\n",
       "      <td>8/19/2014</td>\n",
       "      <td>NaN</td>\n",
       "      <td>NaN</td>\n",
       "      <td>NaN</td>\n",
       "    </tr>\n",
       "    <tr>\n",
       "      <th>36712</th>\n",
       "      <td>6/30/2014</td>\n",
       "      <td>7/31/2014</td>\n",
       "      <td>8/31/2014</td>\n",
       "      <td>6/30/2014</td>\n",
       "      <td>7/29/2014</td>\n",
       "      <td>8/31/2014</td>\n",
       "      <td>NaN</td>\n",
       "      <td>NaN</td>\n",
       "      <td>8/26/2014</td>\n",
       "    </tr>\n",
       "    <tr>\n",
       "      <th>31223</th>\n",
       "      <td>6/30/2014</td>\n",
       "      <td>7/31/2014</td>\n",
       "      <td>8/31/2014</td>\n",
       "      <td>6/6/2014</td>\n",
       "      <td>7/30/2014</td>\n",
       "      <td>8/31/2014</td>\n",
       "      <td>NaN</td>\n",
       "      <td>NaN</td>\n",
       "      <td>NaN</td>\n",
       "    </tr>\n",
       "  </tbody>\n",
       "</table>\n",
       "</div>"
      ],
      "text/plain": [
       "      last_date_of_month_6 last_date_of_month_7 last_date_of_month_8  \\\n",
       "37094            6/30/2014            7/31/2014            8/31/2014   \n",
       "8446             6/30/2014            7/31/2014            8/31/2014   \n",
       "50628            6/30/2014            7/31/2014            8/31/2014   \n",
       "36712            6/30/2014            7/31/2014            8/31/2014   \n",
       "31223            6/30/2014            7/31/2014            8/31/2014   \n",
       "\n",
       "      date_of_last_rech_6 date_of_last_rech_7 date_of_last_rech_8  \\\n",
       "37094           6/25/2014           7/24/2014            8/6/2014   \n",
       "8446            6/29/2014           7/25/2014           8/30/2014   \n",
       "50628           6/28/2014           7/28/2014           8/19/2014   \n",
       "36712           6/30/2014           7/29/2014           8/31/2014   \n",
       "31223            6/6/2014           7/30/2014           8/31/2014   \n",
       "\n",
       "      date_of_last_rech_data_6 date_of_last_rech_data_7  \\\n",
       "37094                6/23/2014                      NaN   \n",
       "8446                       NaN                      NaN   \n",
       "50628                      NaN                      NaN   \n",
       "36712                      NaN                      NaN   \n",
       "31223                      NaN                      NaN   \n",
       "\n",
       "      date_of_last_rech_data_8  \n",
       "37094                 8/2/2014  \n",
       "8446                       NaN  \n",
       "50628                      NaN  \n",
       "36712                8/26/2014  \n",
       "31223                      NaN  "
      ]
     },
     "execution_count": 3,
     "metadata": {},
     "output_type": "execute_result"
    }
   ],
   "source": [
    "# exploring object columns\n",
    "obj_cols = train.select_dtypes(include=['object']).columns\n",
    "train[obj_cols].sample(5)"
   ]
  },
  {
   "cell_type": "code",
   "execution_count": 4,
   "metadata": {},
   "outputs": [
    {
     "name": "stdout",
     "output_type": "stream",
     "text": [
      "<class 'pandas.core.frame.DataFrame'>\n",
      "RangeIndex: 69999 entries, 0 to 69998\n",
      "Columns: 172 entries, id to churn_probability\n",
      "dtypes: datetime64[ns](9), float64(135), int64(28)\n",
      "memory usage: 91.9 MB\n",
      "<class 'pandas.core.frame.DataFrame'>\n",
      "RangeIndex: 30000 entries, 0 to 29999\n",
      "Columns: 171 entries, id to jun_vbc_3g\n",
      "dtypes: datetime64[ns](9), float64(135), int64(27)\n",
      "memory usage: 39.1 MB\n"
     ]
    }
   ],
   "source": [
    "# convert datetime columns from object to datetime\n",
    "train[obj_cols] = train[obj_cols].apply(pd.to_datetime)\n",
    "train.info()\n",
    "\n",
    "# convert datetime columns from object to datetime in test data\n",
    "test[obj_cols] = test[obj_cols].apply(pd.to_datetime)\n",
    "test.info()"
   ]
  },
  {
   "cell_type": "code",
   "execution_count": 5,
   "metadata": {},
   "outputs": [],
   "source": [
    "# understanding the data missing in terms of proportions\n",
    "missing_data_percent = 100*train.isnull().sum()/len(train)\n",
    "\n",
    "# len(missing_data_percent[missing_data_percent.ge(73)].index) # 30\n",
    "# len(missing_data_percent[(missing_data_percent.ge(5))&(missing_data_percent.le(5.3))].index) # 29\n",
    "# len(missing_data_percent[(missing_data_percent.gt(0))&(missing_data_percent.lt(5))].index) # 66\n",
    "# len(missing_data_percent[missing_data_percent.eq(0)].index) # 47\n",
    "\n",
    "# missing data in test\n",
    "missing_data_percent_test = 100*test.isnull().sum()/len(test)\n",
    "\n",
    "# len(missing_data_percent_test[missing_data_percent_test.ge(73)].index) # 30\n",
    "# len(missing_data_percent_test[(missing_data_percent_test.ge(5))&(missing_data_percent_test.le(6))].index) # 29\n",
    "# len(missing_data_percent_test[(missing_data_percent_test.gt(0))&(missing_data_percent_test.lt(5))].index) # 66\n",
    "# len(missing_data_percent_test[missing_data_percent_test.eq(0)].index) # 46\n",
    "\n",
    "# checking if the columns we are about to drop are same in both test and train\n",
    "# even if not same, we will drop the columns in test that we are dropping from train\n",
    "assert (\n",
    "    missing_data_percent_test[missing_data_percent_test.ge(73)].index == \n",
    "    missing_data_percent[missing_data_percent.ge(73)].index\n",
    ").all()"
   ]
  },
  {
   "cell_type": "code",
   "execution_count": 6,
   "metadata": {},
   "outputs": [
    {
     "name": "stdout",
     "output_type": "stream",
     "text": [
      "<class 'pandas.core.frame.DataFrame'>\n",
      "RangeIndex: 69999 entries, 0 to 69998\n",
      "Columns: 142 entries, id to churn_probability\n",
      "dtypes: datetime64[ns](6), float64(108), int64(28)\n",
      "memory usage: 75.8 MB\n"
     ]
    }
   ],
   "source": [
    "# dropping 30 variables with data missing more than 73%\n",
    "cols_to_include = missing_data_percent[missing_data_percent.lt(6)].index\n",
    "\n",
    "# dropping from test\n",
    "test = test[list(set(cols_to_include) - set([\"churn_probability\"]))]\n",
    "\n",
    "# dropping from train\n",
    "train = train[cols_to_include]\n",
    "train.info()"
   ]
  },
  {
   "cell_type": "code",
   "execution_count": 7,
   "metadata": {},
   "outputs": [],
   "source": [
    "# identifying categorical and numeric columns\n",
    "datetime_cols = train.select_dtypes(include=['datetime64[ns]']).columns\n",
    "num_cols = train.select_dtypes(include=['float64', 'int64']).columns"
   ]
  },
  {
   "cell_type": "code",
   "execution_count": 8,
   "metadata": {},
   "outputs": [],
   "source": [
    "# based on the skew and outliers we will decide if we have to use median or mean to fill the missing data\n",
    "def imputation_metric(num_cols, df):\n",
    "    strategy = {}\n",
    "    for col in num_cols:\n",
    "        skewness = skew(df[col].dropna())\n",
    "        Q1 = df[col].quantile(0.25)\n",
    "        Q3 = df[col].quantile(0.75)\n",
    "        IQR = Q3 - Q1\n",
    "        outliers = ((df[col] < (Q1 - 1.5 * IQR)) | (df[col] > (Q3 + 1.5 * IQR))).sum()\n",
    "        \n",
    "        if abs(skewness) > 1 or outliers > 0.05 * len(df):\n",
    "            strategy[col] = 'median'\n",
    "        else:\n",
    "            strategy[col] = 'mean'\n",
    "    return strategy\n",
    "\n",
    "imputation_strategy_train = imputation_metric(num_cols, train)\n",
    "imputation_strategy_test = imputation_metric(test.select_dtypes(include=['float64', 'int64']).columns, test)"
   ]
  },
  {
   "cell_type": "code",
   "execution_count": 9,
   "metadata": {},
   "outputs": [],
   "source": [
    "# filling the missing numeric columns based on outliers and skewness\n",
    "for col, strat in imputation_strategy_train.items():\n",
    "    imputer = SimpleImputer(strategy=strat)\n",
    "    train[[col]] = imputer.fit_transform(train[[col]])\n",
    "\n",
    "for col, strat in imputation_strategy_test.items():\n",
    "    imputer = SimpleImputer(strategy=strat)\n",
    "    test[[col]] = imputer.fit_transform(test[[col]])"
   ]
  },
  {
   "cell_type": "code",
   "execution_count": 10,
   "metadata": {},
   "outputs": [],
   "source": [
    "def create_features(df):\n",
    "    # total recharge amount for 3 months\n",
    "    df['total_rech_amt_sum'] = df['total_rech_amt_6'] + df['total_rech_amt_7'] + df['total_rech_amt_8']\n",
    "\n",
    "    # average recharge amount for 3 months\n",
    "    df['avg_rech_amt_per_month'] = df[['total_rech_amt_6', 'total_rech_amt_7', 'total_rech_amt_8']].mean(axis=1)\n",
    "\n",
    "    # usage ratio of 2g\n",
    "    df['vol_2g_ratio'] = df['vol_2g_mb_6'] / (df['vol_3g_mb_6'] + 1)\n",
    "\n",
    "    # usage ratio of 3g\n",
    "    df['vol_3g_ratio'] = df['vol_3g_mb_6'] / (df['vol_2g_mb_6'] + 1)\n",
    "\n",
    "    # total usage minutes - outgoing\n",
    "    df['total_og_mou_sum'] = df['total_og_mou_6'] + df['total_og_mou_7'] + df['total_og_mou_8']\n",
    "\n",
    "    # total usage minutes - incoming\n",
    "    df['total_ic_mou_sum'] = df['total_ic_mou_6'] + df['total_ic_mou_7'] + df['total_ic_mou_8']\n",
    "\n",
    "    # average usage per month - outgoing\n",
    "    df['avg_og_mou_per_month'] = df[['total_og_mou_6', 'total_og_mou_7', 'total_og_mou_8']].mean(axis=1)\n",
    "\n",
    "    # average usage per month - incoming\n",
    "    df['avg_ic_mou_per_month'] = df[['total_ic_mou_6', 'total_ic_mou_7', 'total_ic_mou_8']].mean(axis=1)\n",
    "\n",
    "    # roaming usage ratio - outgoing\n",
    "    df['roam_og_ratio_6'] = df['roam_og_mou_6'] / (df['total_og_mou_6'] + 1)\n",
    "    df['roam_og_ratio_7'] = df['roam_og_mou_7'] / (df['total_og_mou_7'] + 1)\n",
    "    df['roam_og_ratio_8'] = df['roam_og_mou_8'] / (df['total_og_mou_8'] + 1)\n",
    "\n",
    "    # roaming usage ratio - incoming\n",
    "    df['roam_ic_ratio_6'] = df['roam_ic_mou_6'] / (df['total_ic_mou_6'] + 1)\n",
    "    df['roam_ic_ratio_7'] = df['roam_ic_mou_7'] / (df['total_ic_mou_7'] + 1)\n",
    "    df['roam_ic_ratio_8'] = df['roam_ic_mou_8'] / (df['total_ic_mou_8'] + 1)\n",
    "\n",
    "    # total data used\n",
    "    df['total_data_mb_sum'] = df['vol_2g_mb_6'] + df['vol_2g_mb_7'] + df['vol_2g_mb_8'] + df['vol_3g_mb_6'] + df['vol_3g_mb_7'] + df['vol_3g_mb_8']\n",
    "\n",
    "    # average data used per month\n",
    "    df['avg_data_mb_per_month'] = df[['vol_2g_mb_6', 'vol_2g_mb_7', 'vol_2g_mb_8', 'vol_3g_mb_6', 'vol_3g_mb_7', 'vol_3g_mb_8']].mean(axis=1)\n",
    "\n",
    "    return df\n",
    "\n",
    "train = create_features(train)\n",
    "test = create_features(test)"
   ]
  },
  {
   "cell_type": "code",
   "execution_count": 11,
   "metadata": {},
   "outputs": [],
   "source": [
    "def drop_negative_outliers(df):\n",
    "    for col in ['arpu_6','arpu_7','arpu_8']:\n",
    "        Q1 = df[col].quantile(0.25)\n",
    "        Q3 = df[col].quantile(0.75)\n",
    "        IQR = Q3 - Q1\n",
    "        lower_bound = Q1 - 1.5 * IQR\n",
    "        df = df[df[col] >= lower_bound]\n",
    "    return df\n",
    "\n",
    "train = drop_negative_outliers(train)\n",
    "# test = drop_negative_outliers(test)"
   ]
  },
  {
   "cell_type": "code",
   "execution_count": 12,
   "metadata": {},
   "outputs": [],
   "source": [
    "# log transformation of arpu for each month\n",
    "def log_transform(df):\n",
    "    df['arpu_6_log'] = np.log1p(df['arpu_6'].apply(lambda x: x if x > 0 else 1))\n",
    "    df['arpu_7_log'] = np.log1p(df['arpu_7'].apply(lambda x: x if x > 0 else 1))\n",
    "    df['arpu_8_log'] = np.log1p(df['arpu_8'].apply(lambda x: x if x > 0 else 1))\n",
    "    return df\n",
    "\n",
    "train = log_transform(train)\n",
    "test = log_transform(test)"
   ]
  },
  {
   "cell_type": "code",
   "execution_count": 13,
   "metadata": {},
   "outputs": [],
   "source": [
    "# scaling the newly added totals, averages, ratios\n",
    "scaler = StandardScaler()\n",
    "added_columns = ['total_og_mou_sum', 'total_ic_mou_sum', 'avg_og_mou_per_month', 'avg_ic_mou_per_month',\n",
    "                     'roam_og_ratio_6', 'roam_og_ratio_7', 'roam_og_ratio_8', 'roam_ic_ratio_6', \n",
    "                     'roam_ic_ratio_7', 'roam_ic_ratio_8', 'total_rech_amt_sum', 'avg_rech_amt_per_month',\n",
    "                     'total_data_mb_sum', 'avg_data_mb_per_month', 'vol_2g_ratio', 'vol_3g_ratio']\n",
    "train[added_columns] = scaler.fit_transform(train[added_columns])\n",
    "test[added_columns] = scaler.fit_transform(test[added_columns])"
   ]
  },
  {
   "cell_type": "code",
   "execution_count": 14,
   "metadata": {},
   "outputs": [],
   "source": [
    "X = train.drop(columns=['churn_probability']).drop(columns=datetime_cols)\n",
    "y = train['churn_probability']\n",
    "\n",
    "X_train, X_valid, y_train, y_valid = train_test_split(X, y, test_size=0.2, random_state=42)\n",
    "\n",
    "model = RandomForestClassifier(random_state=42)\n",
    "model.fit(X_train, y_train)\n",
    "\n",
    "\n",
    "sfm = SelectFromModel(model, threshold='mean', prefit=True)\n",
    "X_train_selected = sfm.transform(X_train)\n",
    "selected_features = X_train.columns[sfm.get_support(indices=True)]\n",
    "\n",
    "\n",
    "X_valid_selected = sfm.transform(X_valid)\n",
    "X_test_selected = sfm.transform(test.drop(columns=datetime_cols))\n",
    "\n",
    "X_train_selected = pd.DataFrame(X_train_selected, columns=selected_features)\n",
    "X_valid_selected = pd.DataFrame(X_valid_selected, columns=selected_features)\n",
    "X_test_selected = pd.DataFrame(X_test_selected, columns=selected_features)"
   ]
  },
  {
   "cell_type": "code",
   "execution_count": 32,
   "metadata": {},
   "outputs": [
    {
     "data": {
      "text/plain": [
       "churn_probability\n",
       "0.0    90.0\n",
       "1.0    10.0\n",
       "Name: proportion, dtype: float64"
      ]
     },
     "execution_count": 32,
     "metadata": {},
     "output_type": "execute_result"
    }
   ],
   "source": [
    "# imbalanced class\n",
    "X_train_new = pd.concat([X_train_selected,X_valid_selected])\n",
    "y_train_new = pd.concat([y_train,y_valid])\n",
    "\n",
    "(100*y_train_new.value_counts(normalize=True)).round()"
   ]
  },
  {
   "cell_type": "code",
   "execution_count": 33,
   "metadata": {},
   "outputs": [
    {
     "name": "stdout",
     "output_type": "stream",
     "text": [
      "Validation ROC AUC: 0.9350955806312387\n"
     ]
    }
   ],
   "source": [
    "rfc = RandomForestClassifier(class_weight=\"balanced\", max_depth=10, min_samples_leaf=2, min_samples_split=2, n_estimators=100)\n",
    "\n",
    "# validation\n",
    "rfc.fit(X_train_selected, y_train)\n",
    "valid_pred_proba = rfc.predict_proba(X_valid_selected)[:, 1]\n",
    "valid_auc = roc_auc_score(y_valid, valid_pred_proba)\n",
    "print(f\"Validation ROC AUC: {valid_auc}\")\n",
    "\n",
    "# fitting model on whole data\n",
    "X_train_new = pd.concat([X_train_selected, X_valid_selected])\n",
    "y_train_new = pd.concat([y_train,y_valid])\n",
    "rfc.fit(X_train_new, y_train_new)\n",
    "\n",
    "# predictions\n",
    "y_pred_test = rfc.predict_proba(X_test_selected)[:, 1]\n",
    "\n",
    "# saving predictions\n",
    "submission = test[['id']].copy()\n",
    "submission['churn_probability'] = y_pred_test\n",
    "submission.id = submission.id.astype('int64')\n",
    "submission.churn_probability = submission.churn_probability.astype('int64')\n",
    "submission.to_csv(r'..\\data\\churn_predictions_iteration_3_balancedrfc.csv', index=False)"
   ]
  },
  {
   "cell_type": "code",
   "execution_count": 36,
   "metadata": {},
   "outputs": [
    {
     "name": "stdout",
     "output_type": "stream",
     "text": [
      "Fitting 5 folds for each of 10 candidates, totalling 50 fits\n",
      "Random Forest - Best Parameters: {'n_estimators': 200, 'min_samples_split': 10, 'min_samples_leaf': 4, 'max_depth': 10, 'class_weight': 'balanced_subsample'}\n",
      "Random Forest - Best Score: 0.9372398775719747\n",
      "Validation ROC AUC: 0.9356266977411983\n"
     ]
    }
   ],
   "source": [
    "# random forest classifier\n",
    "rf_param_grid = {\n",
    "    'class_weight': ['balanced','balanced_subsample'],\n",
    "    'n_estimators': [50, 100, 200],\n",
    "    'max_depth': [None, 10, 20],\n",
    "    'min_samples_split': [2, 5, 10],\n",
    "    'min_samples_leaf': [1, 2, 4]\n",
    "}\n",
    "\n",
    "rf_model = RandomForestClassifier(random_state=42)\n",
    "rf_grid_search = RandomizedSearchCV(estimator=rf_model, param_distributions=rf_param_grid, cv=5, scoring='roc_auc', verbose=1)\n",
    "rf_grid_search.fit(X_train_selected, y_train)\n",
    "\n",
    "print(\"Random Forest - Best Parameters:\", rf_grid_search.best_params_)\n",
    "print(\"Random Forest - Best Score:\", rf_grid_search.best_score_)\n",
    "\n",
    "# running best estimator\n",
    "best_model = rf_grid_search.best_estimator_\n",
    "\n",
    "# validation\n",
    "best_model.fit(X_train_selected, y_train)\n",
    "valid_pred_proba = best_model.predict_proba(X_valid_selected)[:, 1]\n",
    "valid_auc = roc_auc_score(y_valid, valid_pred_proba)\n",
    "print(f\"Validation ROC AUC: {valid_auc}\")\n",
    "\n",
    "# fitting model on whole data\n",
    "X_train_new = pd.concat([X_train_selected, X_valid_selected])\n",
    "y_train_new = pd.concat([y_train,y_valid])\n",
    "best_model.fit(X_train_new, y_train_new)\n",
    "\n",
    "# predictions\n",
    "y_pred_test = best_model.predict_proba(X_test_selected)[:, 1]\n",
    "\n",
    "# saving predictions\n",
    "submission = test[['id']].copy()\n",
    "submission['churn_probability'] = y_pred_test\n",
    "submission.id = submission.id.astype('int64')\n",
    "submission.churn_probability = submission.churn_probability.astype('int64')\n",
    "submission.to_csv(r'..\\data\\churn_predictions_iteration_3_balancedrfc2.csv', index=False)"
   ]
  },
  {
   "cell_type": "code",
   "execution_count": 37,
   "metadata": {},
   "outputs": [
    {
     "name": "stdout",
     "output_type": "stream",
     "text": [
      "Fitting 5 folds for each of 10 candidates, totalling 50 fits\n",
      "Random Forest - Best Parameters: {'n_estimators': 50, 'min_samples_split': 2, 'min_samples_leaf': 4, 'max_depth': 20, 'class_weight': 'balanced_subsample'}\n",
      "Random Forest - Best Score: 0.9381074405358264\n",
      "Validation ROC AUC: 0.9303273050087235\n"
     ]
    }
   ],
   "source": [
    "# random forest classifier\n",
    "rf_param_grid = {\n",
    "    'class_weight': ['balanced','balanced_subsample'],\n",
    "    'n_estimators': [50, 100, 200],\n",
    "    'max_depth': [None, 10, 20],\n",
    "    'min_samples_split': [2, 5, 10],\n",
    "    'min_samples_leaf': [1, 2, 4]\n",
    "}\n",
    "\n",
    "rf_model = RandomForestClassifier(random_state=42)\n",
    "rf_grid_search = RandomizedSearchCV(estimator=rf_model, param_distributions=rf_param_grid, cv=5, scoring='f1_weighted', verbose=1)\n",
    "rf_grid_search.fit(X_train_selected, y_train)\n",
    "\n",
    "print(\"Random Forest - Best Parameters:\", rf_grid_search.best_params_)\n",
    "print(\"Random Forest - Best Score:\", rf_grid_search.best_score_)\n",
    "\n",
    "# running best estimator\n",
    "best_model = rf_grid_search.best_estimator_\n",
    "\n",
    "# validation\n",
    "best_model.fit(X_train_selected, y_train)\n",
    "valid_pred_proba = best_model.predict_proba(X_valid_selected)[:, 1]\n",
    "valid_auc = roc_auc_score(y_valid, valid_pred_proba)\n",
    "print(f\"Validation ROC AUC: {valid_auc}\")\n",
    "\n",
    "# fitting model on whole data\n",
    "X_train_new = pd.concat([X_train_selected, X_valid_selected])\n",
    "y_train_new = pd.concat([y_train,y_valid])\n",
    "best_model.fit(X_train_new, y_train_new)\n",
    "\n",
    "# predictions\n",
    "y_pred_test = best_model.predict_proba(X_test_selected)[:, 1]\n",
    "\n",
    "# saving predictions\n",
    "submission = test[['id']].copy()\n",
    "submission['churn_probability'] = y_pred_test\n",
    "submission.id = submission.id.astype('int64')\n",
    "submission.churn_probability = submission.churn_probability.astype('int64')\n",
    "submission.to_csv(r'..\\data\\churn_predictions_iteration_3_balancedrfc3.csv', index=False)"
   ]
  },
  {
   "cell_type": "code",
   "execution_count": 38,
   "metadata": {},
   "outputs": [
    {
     "name": "stdout",
     "output_type": "stream",
     "text": [
      "Fitting 5 folds for each of 10 candidates, totalling 50 fits\n",
      "Random Forest - Best Parameters: {'n_estimators': 50, 'min_samples_split': 10, 'min_samples_leaf': 4, 'max_depth': 10, 'class_weight': 'balanced_subsample'}\n",
      "Random Forest - Best Score: 0.8527238730413454\n",
      "Validation ROC AUC: 0.9340511775504322\n"
     ]
    }
   ],
   "source": [
    "# random forest classifier\n",
    "rf_param_grid = {\n",
    "    'class_weight': ['balanced','balanced_subsample'],\n",
    "    'n_estimators': [50, 100, 200],\n",
    "    'max_depth': [None, 10, 20],\n",
    "    'min_samples_split': [2, 5, 10],\n",
    "    'min_samples_leaf': [1, 2, 4]\n",
    "}\n",
    "\n",
    "rf_model = RandomForestClassifier(random_state=42)\n",
    "rf_grid_search = RandomizedSearchCV(estimator=rf_model, param_distributions=rf_param_grid, cv=5, scoring='balanced_accuracy', verbose=1)\n",
    "rf_grid_search.fit(X_train_selected, y_train)\n",
    "\n",
    "print(\"Random Forest - Best Parameters:\", rf_grid_search.best_params_)\n",
    "print(\"Random Forest - Best Score:\", rf_grid_search.best_score_)\n",
    "\n",
    "# running best estimator\n",
    "best_model = rf_grid_search.best_estimator_\n",
    "\n",
    "# validation\n",
    "best_model.fit(X_train_selected, y_train)\n",
    "valid_pred_proba = best_model.predict_proba(X_valid_selected)[:, 1]\n",
    "valid_auc = roc_auc_score(y_valid, valid_pred_proba)\n",
    "print(f\"Validation ROC AUC: {valid_auc}\")\n",
    "\n",
    "# fitting model on whole data\n",
    "X_train_new = pd.concat([X_train_selected, X_valid_selected])\n",
    "y_train_new = pd.concat([y_train,y_valid])\n",
    "best_model.fit(X_train_new, y_train_new)\n",
    "\n",
    "# predictions\n",
    "y_pred_test = best_model.predict_proba(X_test_selected)[:, 1]\n",
    "\n",
    "# saving predictions\n",
    "submission = test[['id']].copy()\n",
    "submission['churn_probability'] = y_pred_test\n",
    "submission.id = submission.id.astype('int64')\n",
    "submission.churn_probability = submission.churn_probability.astype('int64')\n",
    "submission.to_csv(r'..\\data\\churn_predictions_iteration_3_balancedrfc4.csv', index=False)"
   ]
  }
 ],
 "metadata": {
  "kernelspec": {
   "display_name": "kaggle-titanic-problem",
   "language": "python",
   "name": "python3"
  },
  "language_info": {
   "codemirror_mode": {
    "name": "ipython",
    "version": 3
   },
   "file_extension": ".py",
   "mimetype": "text/x-python",
   "name": "python",
   "nbconvert_exporter": "python",
   "pygments_lexer": "ipython3",
   "version": "3.10.14"
  }
 },
 "nbformat": 4,
 "nbformat_minor": 2
}
